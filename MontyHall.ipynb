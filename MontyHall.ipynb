{
  "nbformat": 4,
  "nbformat_minor": 0,
  "metadata": {
    "colab": {
      "provenance": []
    },
    "kernelspec": {
      "name": "python3",
      "display_name": "Python 3"
    },
    "language_info": {
      "name": "python"
    }
  },
  "cells": [
    {
      "cell_type": "code",
      "execution_count": 1,
      "metadata": {
        "id": "lMtyWOWgmKpq"
      },
      "outputs": [],
      "source": [
        "import random"
      ]
    },
    {
      "cell_type": "code",
      "source": [
        "def lets_make_a_deal(num_doors, num_simulations, change_door=True):\n",
        "    # Contador de juegos ganados\n",
        "    count_win = 0\n",
        "\n",
        "    for _ in range(num_simulations):\n",
        "        # Ordenar los premios en las puertas\n",
        "        doors = random.sample([\"goat\"] * (num_doors - 1) + [\"car\"], num_doors)\n",
        "\n",
        "        # Decisión inicial del jugador\n",
        "        initial_choice = random.randint(1, num_doors)\n",
        "\n",
        "        # Elección del host\n",
        "        # Se elige una puerta que no sea la decisión inicial y que no tenga el auto\n",
        "        host_reveal = random.choice([door for door in range(1, num_doors + 1) if door != initial_choice and doors[door - 1] != \"car\"])\n",
        "\n",
        "        if change_door:\n",
        "            # Cambio de puerta: elegir la que no se escogió en un inicio ni la que mostró el Host\n",
        "            final_choice = [door for door in range(1, num_doors + 1) if door != initial_choice and door != host_reveal][0]\n",
        "        else:\n",
        "            # Se mantiene la elección inicial\n",
        "            final_choice = initial_choice\n",
        "\n",
        "        # Si la decisión final es igual a la puerta con el carro, se incrementa el contador de juegos ganados\n",
        "        if doors[final_choice - 1] == \"car\":\n",
        "            count_win += 1\n",
        "\n",
        "    # Calcular la probabilidad dividiendo los juegos ganados por el número de simulaciones\n",
        "    prob_win = count_win / num_simulations\n",
        "    return prob_win"
      ],
      "metadata": {
        "id": "dTUb2toMmc8x"
      },
      "execution_count": 29,
      "outputs": []
    },
    {
      "cell_type": "code",
      "source": [
        "lets_make_a_deal(3,10,True)"
      ],
      "metadata": {
        "colab": {
          "base_uri": "https://localhost:8080/"
        },
        "id": "z9-yejXyU0et",
        "outputId": "260a3b79-3dd2-4ef3-d5ea-2b96983dec3b"
      },
      "execution_count": 42,
      "outputs": [
        {
          "output_type": "execute_result",
          "data": {
            "text/plain": [
              "0.4"
            ]
          },
          "metadata": {},
          "execution_count": 42
        }
      ]
    },
    {
      "cell_type": "code",
      "source": [
        "lets_make_a_deal(3,10,False)"
      ],
      "metadata": {
        "colab": {
          "base_uri": "https://localhost:8080/"
        },
        "id": "053lTmIfU3s1",
        "outputId": "5c22f007-3d73-492c-addc-1fa537c137f5"
      },
      "execution_count": 47,
      "outputs": [
        {
          "output_type": "execute_result",
          "data": {
            "text/plain": [
              "0.2"
            ]
          },
          "metadata": {},
          "execution_count": 47
        }
      ]
    },
    {
      "cell_type": "code",
      "source": [
        "lets_make_a_deal(3,100,True)"
      ],
      "metadata": {
        "colab": {
          "base_uri": "https://localhost:8080/"
        },
        "id": "ll3_zH5lvlXT",
        "outputId": "cfe47739-938f-4883-8db8-1d40bc2de68c"
      },
      "execution_count": 36,
      "outputs": [
        {
          "output_type": "execute_result",
          "data": {
            "text/plain": [
              "0.63"
            ]
          },
          "metadata": {},
          "execution_count": 36
        }
      ]
    },
    {
      "cell_type": "code",
      "source": [
        "lets_make_a_deal(3,100,False)"
      ],
      "metadata": {
        "colab": {
          "base_uri": "https://localhost:8080/"
        },
        "id": "wkCFb8PNwJmS",
        "outputId": "6b66c984-36e3-4bae-d31e-bf8f218880a0"
      },
      "execution_count": 37,
      "outputs": [
        {
          "output_type": "execute_result",
          "data": {
            "text/plain": [
              "0.36"
            ]
          },
          "metadata": {},
          "execution_count": 37
        }
      ]
    },
    {
      "cell_type": "code",
      "source": [
        "lets_make_a_deal(3,1000,True)"
      ],
      "metadata": {
        "colab": {
          "base_uri": "https://localhost:8080/"
        },
        "id": "saz8jElfwNV1",
        "outputId": "6e366c60-35cb-441e-b5c6-65ff1d781f3a"
      },
      "execution_count": 38,
      "outputs": [
        {
          "output_type": "execute_result",
          "data": {
            "text/plain": [
              "0.663"
            ]
          },
          "metadata": {},
          "execution_count": 38
        }
      ]
    },
    {
      "cell_type": "code",
      "source": [
        "lets_make_a_deal(3,1000,False)"
      ],
      "metadata": {
        "colab": {
          "base_uri": "https://localhost:8080/"
        },
        "id": "fkWC8pPRwQmS",
        "outputId": "5845c4ff-0eb3-48a6-8c82-ea554867eef0"
      },
      "execution_count": 39,
      "outputs": [
        {
          "output_type": "execute_result",
          "data": {
            "text/plain": [
              "0.338"
            ]
          },
          "metadata": {},
          "execution_count": 39
        }
      ]
    },
    {
      "cell_type": "code",
      "source": [
        "lets_make_a_deal(3,10000,True)"
      ],
      "metadata": {
        "colab": {
          "base_uri": "https://localhost:8080/"
        },
        "id": "7UHnDTOgwUww",
        "outputId": "06c3d8d5-c26f-4311-bb7b-3fae314ffd85"
      },
      "execution_count": 40,
      "outputs": [
        {
          "output_type": "execute_result",
          "data": {
            "text/plain": [
              "0.6653"
            ]
          },
          "metadata": {},
          "execution_count": 40
        }
      ]
    },
    {
      "cell_type": "code",
      "source": [
        "lets_make_a_deal(3,10000,False)"
      ],
      "metadata": {
        "colab": {
          "base_uri": "https://localhost:8080/"
        },
        "id": "dBTvI-xvwZJ2",
        "outputId": "695a5e1e-f0b3-4ca7-d9a9-6f8bc5501cfd"
      },
      "execution_count": 44,
      "outputs": [
        {
          "output_type": "execute_result",
          "data": {
            "text/plain": [
              "0.3326"
            ]
          },
          "metadata": {},
          "execution_count": 44
        }
      ]
    },
    {
      "cell_type": "code",
      "source": [
        "lets_make_a_deal(3,100000,True)"
      ],
      "metadata": {
        "colab": {
          "base_uri": "https://localhost:8080/"
        },
        "id": "8dXIzHp0U8ql",
        "outputId": "589f65a1-78ce-46dc-9f53-ee384583aa49"
      },
      "execution_count": 45,
      "outputs": [
        {
          "output_type": "execute_result",
          "data": {
            "text/plain": [
              "0.66922"
            ]
          },
          "metadata": {},
          "execution_count": 45
        }
      ]
    },
    {
      "cell_type": "code",
      "source": [
        "lets_make_a_deal(3,100000,False)"
      ],
      "metadata": {
        "colab": {
          "base_uri": "https://localhost:8080/"
        },
        "id": "Ruj02E22U_pJ",
        "outputId": "3676516e-30e1-42f1-a019-7e72755b7f5b"
      },
      "execution_count": 46,
      "outputs": [
        {
          "output_type": "execute_result",
          "data": {
            "text/plain": [
              "0.33432"
            ]
          },
          "metadata": {},
          "execution_count": 46
        }
      ]
    },
    {
      "cell_type": "code",
      "source": [
        "#Me basé del siguiente código\n",
        "#https://www.linkedin.com/pulse/how-simulate-monty-hall-problem-predict-your-chances-winning-matt"
      ],
      "metadata": {
        "id": "pr7s_J8_YcMZ"
      },
      "execution_count": null,
      "outputs": []
    }
  ]
}